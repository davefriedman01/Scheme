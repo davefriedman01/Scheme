{
 "cells": [
  {
   "attachments": {},
   "cell_type": "markdown",
   "metadata": {},
   "source": [
    "# Friedman's _Little Learner_\n",
    "Friedman, Daniel P. & Anurag Mendhekar. (2023). _The Little Learner: A Straight Line to Deep Learning_. MIT Press. [Home](https://www.thelittlelearner.com/)."
   ]
  },
  {
   "attachments": {},
   "cell_type": "markdown",
   "metadata": {},
   "source": [
    "---"
   ]
  },
  {
   "attachments": {},
   "cell_type": "markdown",
   "metadata": {},
   "source": [
    "```{admonition} Revised\n",
    "10 Jun 2023\n",
    "```\n",
    "```{contents}\n",
    "```"
   ]
  },
  {
   "attachments": {},
   "cell_type": "markdown",
   "metadata": {},
   "source": [
    "---"
   ]
  },
  {
   "attachments": {},
   "cell_type": "markdown",
   "metadata": {},
   "source": [
    "Racket\n",
    "* [[Home](https://racket-lang.org/)]\n",
    "\n",
    "Setup\n",
    "* `raco pkg install malt`\n",
    "* `raco pkg update malt`\n",
    "\n",
    "REPL\n",
    "* `racket`\n",
    "* `(require malt)`"
   ]
  },
  {
   "attachments": {},
   "cell_type": "markdown",
   "metadata": {},
   "source": [
    "---"
   ]
  },
  {
   "attachments": {},
   "cell_type": "markdown",
   "metadata": {},
   "source": [
    "[FUNCTIONS]\n",
    "\n",
    "Functions are invoked with zero or more arguments.\n",
    "\n",
    "```\n",
    "(<function> <argument> ...)\n",
    "```\n",
    "\n",
    "All mathematical operations `*`, `+`, etc. are functions.\n",
    "\n",
    "[FORMALS]\n",
    "\n",
    "Formals are the names given to arguments that are passed in when the function is invoked. In the following expression, `λ` marks the beginning of a new function; then a single formal `r`; and then the body of the function, which is the expression for the value fo the function.\n",
    "\n",
    "```racket\n",
    "(λ (r)\n",
    "  (* pie\n",
    "    (* r r)))\n",
    "```\n",
    "\n",
    "`λ` is used to create a function and `define` is used to give it a name.\n",
    "\n",
    "```racket\n",
    "(define area-of-circle\n",
    "  (λ (r)\n",
    "    (* pie\n",
    "      (* r r))))\n",
    "```\n",
    "\n",
    "Functions are also values, and they can be used like other values; thus, functions can result in other functions.\n",
    "\n",
    "```racket\n",
    "(area-of-rectangle 3.0)\n",
    "```\n",
    "\n",
    "This function results in the following function with one formal.\n",
    "\n",
    "```racket\n",
    "(λ (height)\n",
    "  (* 3.0 height))\n",
    "```\n",
    "\n",
    "Functions can also be passed in as arguments to other functions.\n",
    "\n",
    "[β-SUBSTITUTION]\n",
    "\n",
    "Remembering arguments passed in for formals of outer functions inside inner functions is called β-substitution. All the names in the definition must be unique at every step; if not, formals of functions can be given new names to make sure they are always unique.\n",
    "\n",
    "[SPECIAL FORM]\n",
    "\n",
    "Expressions that begin with keywords are known as special forms (and are different from function invocations).\n",
    "\n",
    "[CONDITIONAL]\n",
    "\n",
    "Each combination of test and value is known as a clause, where `else` is treated as true. The value of the `cond` expression is the value of the first clause with a true test, checking them from the top to the bottom.\n",
    "\n",
    "[LET-EXPRESSION]\n",
    "\n",
    "A let-expression defines a local name that can be used anywhere inside the body of the let-expression.\n",
    "\n",
    "[LOOPS?]\n",
    "\n",
    "Recursive functions are used in place of loops.\n",
    "\n",
    "A recursive function is a function in which the body of the function refers to the name given to the function itself.\n",
    "\n",
    "A recursive function\n",
    "* tests its arguments to see if they meet a base test requirement\n",
    "  * the test is called the base test\n",
    "  * the resultant value is called the base value\n",
    "\n",
    "In same-as charts, there's at least one argument shrinking and heading toward the base test. This holds as long as we expect the recursive function to result in a value.\n",
    "\n",
    "Recursive Function\n",
    "1. Determine the base test.\n",
    "2. Determine the base value.\n",
    "3. Determine how the arguments to the recursive invocation change.\n",
    "4. Use the recursive invocation as part of a larger expression to obtain the overall result of the function.\n",
    "\n",
    "The portion of the expression excluding the recursive invocation as its wrapper."
   ]
  },
  {
   "attachments": {},
   "cell_type": "markdown",
   "metadata": {},
   "source": [
    "[PARAMETERIZED FUNCTION]\n",
    "\n",
    "A function that accepts parameters after the arguments is known as a parameterized function.\n",
    "\n",
    "Parameterized functions are used where we must figure out the right values for the parameters from given values of x and the corresponding values of y."
   ]
  },
  {
   "attachments": {},
   "cell_type": "markdown",
   "metadata": {},
   "source": [
    "[RULE OF PARAMETERS 1.0]\n",
    "\n",
    "Every parameter is a number."
   ]
  },
  {
   "attachments": {},
   "cell_type": "markdown",
   "metadata": {},
   "source": [
    "[LEARNING]\n",
    "\n",
    "Learning is finding the parameters of a function from a data set."
   ]
  },
  {
   "attachments": {},
   "cell_type": "markdown",
   "metadata": {},
   "source": [
    "[PARAMETER SET]\n",
    "\n",
    "The set of parameters $\\theta$."
   ]
  },
  {
   "attachments": {},
   "cell_type": "markdown",
   "metadata": {},
   "source": [
    "[PREDICATE]\n",
    "\n",
    "A function that always results in a Boolean--either false or true."
   ]
  },
  {
   "attachments": {},
   "cell_type": "markdown",
   "metadata": {},
   "source": [
    "[SCALAR]\n",
    "\n",
    "A scalar is just a real number."
   ]
  },
  {
   "attachments": {},
   "cell_type": "markdown",
   "metadata": {},
   "source": [
    "$[\\text{TENSOR}^0]$\n",
    "\n",
    "A $\\text{tensor}^0$ is just a scalar.\n",
    "\n",
    "A $\\text{tensor}^1$ can be thought of as a zero-dimensional array."
   ]
  },
  {
   "attachments": {},
   "cell_type": "markdown",
   "metadata": {},
   "source": [
    "$[\\text{TENSOR}^1]$\n",
    "\n",
    "A $\\text{tensor}^1$ groups one or more scalars together.\n",
    "\n",
    "A $\\text{tensor}^1$ can be thought of as a vector or a one-dimensional array."
   ]
  },
  {
   "attachments": {},
   "cell_type": "markdown",
   "metadata": {},
   "source": [
    "$[\\text{TENSOR}^2]$\n",
    "\n",
    "A $\\text{tensor}^2$ groups one or more tensors together.\n",
    "\n",
    "A $\\text{tensor}^2$ can be thought of as a matrix or a two-dimensional array."
   ]
  },
  {
   "attachments": {},
   "cell_type": "markdown",
   "metadata": {},
   "source": [
    "$[\\text{TENSOR}^{m+1}]$\n",
    "\n",
    "A $\\text{tensor}^{m+1}$ groups one or more $\\text{tensor}^m$ s together.\n",
    "\n",
    "All the $\\text{tensor}^m$ s must have the same number of elements."
   ]
  },
  {
   "attachments": {},
   "cell_type": "markdown",
   "metadata": {},
   "source": [
    "[TENSOR RANK]\n",
    "\n",
    "The tensor rank tells us how deeply nested its elements are."
   ]
  },
  {
   "attachments": {},
   "cell_type": "markdown",
   "metadata": {},
   "source": [
    "[RULE OF RANK]\n",
    "\n",
    "In Racket, a tensor's rank is the number of left square brackets before its leftmost scalar."
   ]
  },
  {
   "attachments": {},
   "cell_type": "markdown",
   "metadata": {},
   "source": [
    "[example] same-as chart\n",
    "\n",
    "```racket\n",
    "(rank (tensor (tensor (tensor 8) (tensor 9)) (tensor (tensor 4) (tensor 7)))) ; 3\n",
    "(add1 (rank (tensor (tensor 8) (tensor 9))))                                  ; 3\n",
    "(add1 (add1 (rank (tensor 8))))                                               ; 3\n",
    "(add1 (add1 (add1 (rank 8))))                                                 ; 3\n",
    "(add1 (add1 (add1 0)))                                                        ; 3\n",
    "(add1 (add1 1))                                                               ; 3\n",
    "(add1 2)                                                                      ; 3\n",
    "3                                                                             ; 3\n",
    "```"
   ]
  },
  {
   "attachments": {},
   "cell_type": "markdown",
   "metadata": {},
   "source": [
    "[TENSOR SHAPE]\n",
    "\n"
   ]
  },
  {
   "attachments": {},
   "cell_type": "markdown",
   "metadata": {},
   "source": [
    "[RULE OF MEMBERS AND ELEMENTS]\n",
    "\n",
    "Non empty lists have members and non scalar tensors have elements."
   ]
  },
  {
   "attachments": {},
   "cell_type": "markdown",
   "metadata": {},
   "source": [
    "[RULE OF UNIFORM SHAPE]\n",
    "\n",
    "All elements of a tensor must have the same shape."
   ]
  },
  {
   "attachments": {},
   "cell_type": "markdown",
   "metadata": {},
   "source": [
    "[example]\n",
    "\n",
    "Using a same-as chart, determine `(shape t)` where `t` is `(tensor (tensor (tensor 5) (tensor 6) (tensor 8)) (tensor (tensor 7) (tensor 9) (tensor 5)))`.\n",
    "\n",
    "```racket\n",
    "(shape (tensor (tensor (tensor 5) (tensor 6) (tensor 8)) (tensor (tensor 7) (tensor 9) (tensor 5)))) ; '(2 3 1)\n",
    "(cons 2 (shape (tensor (tensor 5) (tensor 6) (tensor 8))))                                           ; '(2 3 1)\n",
    "(cons 2 (cons 3 (shape (tensor 5))))                                                                 ; '(2 3 1)\n",
    "(cons 2 (cons 3 (cons 1 (list))))                                                                    ; '(2 3 1)\n",
    "(cons 2 (cons 3 (list 1)))                                                                           ; '(2 3 1)\n",
    "(cons 2 (list 3 1))                                                                                  ; '(2 3 1)\n",
    "(list 2 3 1)                                                                                         ; '(2 3 1)\n",
    "```"
   ]
  },
  {
   "attachments": {},
   "cell_type": "markdown",
   "metadata": {},
   "source": [
    "[NUMBER OF MEMBERS IN A LIST]\n",
    "\n",
    "The number of members in a list is $|l|$.\n",
    "\n",
    "```racket\n",
    "(len l)\n",
    "```"
   ]
  },
  {
   "attachments": {},
   "cell_type": "markdown",
   "metadata": {},
   "source": [
    "[THE LAW OF RANK AND SHAPE]\n",
    "\n",
    "The rank of a tensor is equal to the length of its shape.\n",
    "\n",
    "How are rank and shape related?\n",
    "\n",
    "The number of members in the tensor's shape is also the tensor's rank.\n",
    "\n",
    "```racket\n",
    "(= (len (shape t)) (rank t))\n",
    "```\n",
    "\n",
    "A tensor's shape is also used to determine its total number of scalars by taking the product of its shape's members."
   ]
  },
  {
   "attachments": {},
   "cell_type": "markdown",
   "metadata": {},
   "source": [
    "[example] same-as chart\n",
    "\n",
    "```racket\n",
    "(rank (tensor (tensor (tensor 8) (tensor 9)) (tensor (tensor 4) (tensor 7))))     ; 3\n",
    "(ranked (tensor (tensor (tensor 8) (tensor 9)) (tensor (tensor 4) (tensor 7))) 0) ; 3\n",
    "(ranked (tensor (tensor 8) (tensor 9)) (add1 0))                                  ; 3\n",
    "(ranked (tensor (tensor 8) (tensor 9)) 1)                                         ; 3\n",
    "(ranked (tensor 8) (add1 1))                                                      ; 3\n",
    "(ranked (tensor 8) 2)                                                             ; 3\n",
    "(ranked 8 (add1 2))                                                               ; 3\n",
    "(ranked 8 3)                                                                      ; 3\n",
    "3                                                                                 ; 3\n",
    "```"
   ]
  },
  {
   "attachments": {},
   "cell_type": "markdown",
   "metadata": {},
   "source": [
    "[THE LAW OF SIMPLE ACCUMULATOR PASSING]\n",
    "\n",
    "In a simple accumulator passing function definition every recursive function invocation is unwrapped, and the definition has at most one argument that does not change; an argument that changes towards a true base test; and another that accumulates a result.\n",
    "\n",
    "This law enables us to handle very large tensors and lists.\n",
    "\n",
    "When combining simple accumulator passing function definitions, they could be thought of as one very big loop.\n",
    "\n",
    "Every Scheme system is required to support tail call optimization which makes each unwrapped recursive invocation behave the same as a loop.\n",
    "\n",
    "The other requirements in the law ensure that we use a uniform pattern for our function definitions so that they are easy to read and understood."
   ]
  },
  {
   "attachments": {},
   "cell_type": "markdown",
   "metadata": {},
   "source": [
    "### Interlude I: The More We Extend, the Less Tensor We Get"
   ]
  },
  {
   "attachments": {},
   "cell_type": "markdown",
   "metadata": {},
   "source": [
    "the sum of the elements of two tensors is the tensor of the sum of their elements\n",
    "\n",
    "```racket\n",
    "(+ 1 1)                           ; 2\n",
    "\n",
    "(+ (tensor 2) (tensor 7))         ; (tensor 9)\n",
    "(tensor (+ 2 7))                  ; (tensor 9)\n",
    "\n",
    "(+ (tensor 5 6 7) (tensor 2 0 1)) ; (tensor 7 6 8)\n",
    "(tensor (+ 5 2) (+ 6 0) (+ 7 1))  ; (tensor 7 6 8)\n",
    "```"
   ]
  },
  {
   "attachments": {},
   "cell_type": "markdown",
   "metadata": {},
   "source": [
    "---"
   ]
  },
  {
   "attachments": {},
   "cell_type": "markdown",
   "metadata": {},
   "source": [
    "* [W] α-Conversion\n",
    "* [W] β-Reduction (β-Substitution)\n",
    "* [[W](https://en.wikipedia.org/wiki/Curry%E2%80%93Howard_correspondence)] Curry-Howard Correspondence\n",
    "* [[W](https://en.wikipedia.org/wiki/Currying)] Currying\n",
    "* [[W](https://en.wikipedia.org/wiki/Function_application)] Function Application\n",
    "* [[W](https://en.wikipedia.org/wiki/Lambda_calculus)] Lambda Calculus\n",
    "* [[W](https://en.wikipedia.org/wiki/Model_of_computation)] Model of Computation\n",
    "* [[W](https://en.wikipedia.org/wiki/Name_binding)] Name Binding\n",
    "* [[W](https://en.wikipedia.org/wiki/Simply_typed_lambda_calculus)] Simply-Typed Lambda Calculus\n",
    "* [[W](https://en.wikipedia.org/wiki/Substitution_(logic))] Substitution"
   ]
  },
  {
   "attachments": {},
   "cell_type": "markdown",
   "metadata": {},
   "source": [
    "---"
   ]
  }
 ],
 "metadata": {
  "language_info": {
   "name": "python"
  },
  "orig_nbformat": 4
 },
 "nbformat": 4,
 "nbformat_minor": 2
}
