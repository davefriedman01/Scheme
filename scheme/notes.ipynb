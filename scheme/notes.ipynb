{
 "cells": [
  {
   "attachments": {},
   "cell_type": "markdown",
   "metadata": {},
   "source": [
    "# Chez Scheme"
   ]
  },
  {
   "attachments": {},
   "cell_type": "markdown",
   "metadata": {},
   "source": [
    "---"
   ]
  },
  {
   "attachments": {},
   "cell_type": "markdown",
   "metadata": {},
   "source": [
    "```{admonition} Revised\n",
    "09 Jun 2023\n",
    "```\n",
    "```{contents}\n",
    "```"
   ]
  },
  {
   "attachments": {},
   "cell_type": "markdown",
   "metadata": {},
   "source": [
    "---"
   ]
  },
  {
   "attachments": {},
   "cell_type": "markdown",
   "metadata": {},
   "source": [
    "What is Scheme? A list processing or symbol processing language."
   ]
  },
  {
   "attachments": {},
   "cell_type": "markdown",
   "metadata": {},
   "source": [
    "## atom"
   ]
  },
  {
   "attachments": {},
   "cell_type": "markdown",
   "metadata": {},
   "source": [
    "An atom is\n",
    "\n",
    "either a string of one or more characters (beginning with a letter or a special character other than a parenthesis) (which must be quoted)\n",
    "\n",
    "or a string of one or more digits (which may or may not be quoted)\n",
    "\n",
    "```scheme\n",
    "(define atom?\n",
    "  (lambda (x)\n",
    "    (and (not (pair? x)) (not (null? x)))))\n",
    "```\n",
    "\n",
    "What counts as an atom?\n",
    "\n",
    "```scheme\n",
    "(atom? 'atom)   ; #t\n",
    "(atom? 'turkey) ; #t\n",
    "(atom? 1492)    ; #t\n",
    "(atom? '1492)   ; #t\n",
    "(atom? 'u)      ; #t\n",
    "(atom? '*abc$)  ; #t\n",
    "(atom? '())     ; #f\n",
    "```"
   ]
  },
  {
   "attachments": {},
   "cell_type": "markdown",
   "metadata": {},
   "source": [
    "## list"
   ]
  },
  {
   "attachments": {},
   "cell_type": "markdown",
   "metadata": {},
   "source": [
    "A list `l` is\n",
    "\n",
    "either the empty list `'()`\n",
    "\n",
    "or an S-expression `(car l)` and a list `(cdr l)`\n",
    "\n",
    "What counts as a list?\n",
    "\n",
    "```scheme\n",
    "(list? '(atom))             ; #t - a list containing one atom\n",
    "(list? '(atom turkey or))   ; #t - a list containing a collection of atoms\n",
    "(list? '(atom turkey) or)   ; #f - 2 S-expressions not enclosed by parentheses; the first is a list containing two atoms; the second is an atom\n",
    "(list? '((atom turkey) or)) ; #t - 2 S-expressions enclosed by parentheses\n",
    "(list? '())                 ; #t - the empty list\n",
    "(list? '(() () () ()))      ; #t - a collection of S-expressions enclosed by parentheses\n",
    "```\n",
    "\n",
    "Constructing a list via `list`.\n",
    "\n",
    "```scheme\n",
    "(list 'a 'b 'c)             ; (a b c)\n",
    "```"
   ]
  },
  {
   "attachments": {},
   "cell_type": "markdown",
   "metadata": {},
   "source": [
    "### Constructing lists recursively"
   ]
  },
  {
   "attachments": {},
   "cell_type": "markdown",
   "metadata": {},
   "source": [
    "constructor: `cons`\n",
    "\n",
    "terminal condition: `(null? l)`\n",
    "\n",
    "terminal condition value: `'()` `((null? l) '())`\n",
    "\n",
    "natural recursion: `(cdr lat)` (the rest of a non empty list is a list)\n",
    "\n",
    "questions to ask of a list:\n",
    "1. `(null? lat)`\n",
    "2. `else`"
   ]
  },
  {
   "attachments": {},
   "cell_type": "markdown",
   "metadata": {},
   "source": [
    "## S-expression"
   ]
  },
  {
   "attachments": {},
   "cell_type": "markdown",
   "metadata": {},
   "source": [
    "An S-expression is either an atom or a list."
   ]
  },
  {
   "attachments": {},
   "cell_type": "markdown",
   "metadata": {},
   "source": [
    "```\n",
    "xyz                                  ; yes - all atoms are S-expressions\n",
    "(x y z)                              ; yes - all lists are S-expressions\n",
    "((x y) z)                            ; yes\n",
    "(how are you doing so far)           ; yes\n",
    "(((how) are) ((you) (doing so)) far) ; yes\n",
    "```"
   ]
  },
  {
   "attachments": {},
   "cell_type": "markdown",
   "metadata": {},
   "source": [
    "## list of atoms (lat)"
   ]
  },
  {
   "attachments": {},
   "cell_type": "markdown",
   "metadata": {},
   "source": [
    "A list of atoms (lat) `lat` is\n",
    "\n",
    "either the empty list `'()`\n",
    "\n",
    "or an atom `(car lat)` and a lat `(cdr lat)`\n",
    "\n",
    "```scheme\n",
    "(define lat?\n",
    "  (lambda (l)\n",
    "    (cond\n",
    "      ((null? l) #t)\n",
    "      ((atom? (car l)) (lat? (cdr l)))\n",
    "      (else #f))))\n",
    "```"
   ]
  },
  {
   "attachments": {},
   "cell_type": "markdown",
   "metadata": {},
   "source": [
    "## tuple"
   ]
  },
  {
   "attachments": {},
   "cell_type": "markdown",
   "metadata": {},
   "source": [
    "A tuple `tup` is\n",
    "\n",
    "either the empty tuple `'()`\n",
    "\n",
    "or a number `(car tup)` and a tuple `(cdr tup)`"
   ]
  },
  {
   "attachments": {},
   "cell_type": "markdown",
   "metadata": {},
   "source": [
    "### Constructing tuples recursively"
   ]
  },
  {
   "attachments": {},
   "cell_type": "markdown",
   "metadata": {},
   "source": [
    "constructor: `o+`\n",
    "\n",
    "terminal condition: `(null? tup)`\n",
    "\n",
    "terminal condition value: `0` `((null? tup) 0)`\n",
    "\n",
    "natural recursion: `(cdr tup)` (the rest of a non empty tuple is a tuple)\n",
    "\n",
    "questions to ask of a list:\n",
    "1. `(null? tup)`\n",
    "2. `else`"
   ]
  },
  {
   "attachments": {},
   "cell_type": "markdown",
   "metadata": {},
   "source": [
    "## number"
   ]
  },
  {
   "attachments": {},
   "cell_type": "markdown",
   "metadata": {},
   "source": [
    "A number `n` is\n",
    "\n",
    "either the empty number `0`\n",
    "\n",
    "or unity `1` and a number `(sub1 n)`"
   ]
  },
  {
   "attachments": {},
   "cell_type": "markdown",
   "metadata": {},
   "source": [
    "### Constructing numbers recursively"
   ]
  },
  {
   "attachments": {},
   "cell_type": "markdown",
   "metadata": {},
   "source": [
    "constructor: `add1`\n",
    "\n",
    "terminal condition: `(zero? n)`\n",
    "\n",
    "terminal condition value: `0` `((zero? n) 0)`\n",
    "\n",
    "natural recursion: `(sub1 n)`\n",
    "\n",
    "questions to ask of a list:\n",
    "1. `(zero? n)`\n",
    "2. `else`"
   ]
  },
  {
   "attachments": {},
   "cell_type": "markdown",
   "metadata": {},
   "source": [
    "---"
   ]
  },
  {
   "attachments": {},
   "cell_type": "markdown",
   "metadata": {},
   "source": [
    "## List processing"
   ]
  },
  {
   "attachments": {},
   "cell_type": "markdown",
   "metadata": {},
   "source": [
    "### Law of `car`"
   ]
  },
  {
   "attachments": {},
   "cell_type": "markdown",
   "metadata": {},
   "source": [
    "The primitive `car` is defined only for non empty lists.\n",
    "\n",
    "```scheme\n",
    "(car '(a b c))                             ; a           - a is the first atom of the list\n",
    "(car '((a b c) x y z))                     ; (a b c)     - (a b c) is the first S-expression of the list\n",
    "(car 'hotdog)                              ;             - you cannot ask for the `car` of an atom (\"hotdog is not a pair\")\n",
    "(car '())                                  ;             - you cannot ask for the `car` of the empty list (\"() is not a pair\")\n",
    "(car '(((hotdogs)) (and) (pickle) relish)) ; ((hotdogs)) - ((hotdogs)) is the first S-expression of the list\n",
    "(car (car '(((hotdogs)) (and))))           ; (hotdogs)\n",
    "```"
   ]
  },
  {
   "attachments": {},
   "cell_type": "markdown",
   "metadata": {},
   "source": [
    "### Law of `cdr`"
   ]
  },
  {
   "attachments": {},
   "cell_type": "markdown",
   "metadata": {},
   "source": [
    "The primitive `cdr` is defined only for non empty lists.\n",
    "\n",
    "The `cdr` of any non empty list is always another list.\n",
    "\n",
    "```scheme\n",
    "(cdr '(a b c))         ; (b c)   - (b c) is the list l without (car l)\n",
    "(cdr '((a b c) x y z)) ; (x y z)\n",
    "(cdr '(hamburger))     ; ()\n",
    "(cdr '((x) t r))       ; (t r)\n",
    "(cdr 'hotdogs)         ;         - you cannot ask for the `cdr` of an atom (\"hotdogs is not a pair\")\n",
    "(cdr '())              ;         - you cannot ask for the `cdr` of the empty list (\"() is not a pair\")\n",
    "```"
   ]
  },
  {
   "attachments": {},
   "cell_type": "markdown",
   "metadata": {},
   "source": [
    "---"
   ]
  },
  {
   "attachments": {},
   "cell_type": "markdown",
   "metadata": {},
   "source": [
    "## Keywords"
   ]
  },
  {
   "attachments": {},
   "cell_type": "markdown",
   "metadata": {},
   "source": [
    "`car`\n",
    "\n",
    "`cdr`\n",
    "\n",
    "`cons`\n",
    "\n",
    "`cond`\n",
    "\n",
    "`if`\n",
    "\n",
    "`else`\n",
    "\n",
    "`eq?`\n",
    "\n",
    "`equal?`\n",
    "\n",
    "`null?`\n",
    "\n",
    "`zero?`\n",
    "\n",
    "`and`\n",
    "\n",
    "`or`\n",
    "\n",
    "`not`\n",
    "\n",
    "`quote`\n",
    "\n",
    "`define`\n",
    "\n",
    "`lambda`\n",
    "\n",
    "`length`"
   ]
  },
  {
   "attachments": {},
   "cell_type": "markdown",
   "metadata": {},
   "source": [
    "## Type checking"
   ]
  },
  {
   "attachments": {},
   "cell_type": "markdown",
   "metadata": {},
   "source": [
    "* `integer?`\n",
    "* `rational?`\n",
    "* `real?`\n",
    "* `number?`\n",
    "* `odd?`\n",
    "* `even?`\n",
    "* `symbol?`\n",
    "* `string?`\n",
    "* `pair?`\n",
    "* `vector?`\n",
    "* `procedure?`\n",
    "* `boolean?`"
   ]
  },
  {
   "attachments": {},
   "cell_type": "markdown",
   "metadata": {},
   "source": [
    "```scheme\n",
    "(define x 10)\n",
    "(define y \"hello\")\n",
    "(define z '(1 2 3))\n",
    "\n",
    "(if (integer? x)\n",
    "    (display \"x is an integer.\")\n",
    "    (display \"x is not an integer.\"))\n",
    "(newline)\n",
    "\n",
    "(if (string? y)\n",
    "    (display \"y is a string.\")\n",
    "    (display \"y is not a string.\"))\n",
    "(newline)\n",
    "\n",
    "(if (pair? z)\n",
    "    (display \"z is a pair.\")\n",
    "    (display \"z is not a pair.\"))\n",
    "(newline)\n",
    "```"
   ]
  },
  {
   "attachments": {},
   "cell_type": "markdown",
   "metadata": {},
   "source": [
    "---"
   ]
  }
 ],
 "metadata": {
  "kernelspec": {
   "display_name": "Python 3",
   "language": "python",
   "name": "python3"
  },
  "language_info": {
   "name": "python",
   "version": "3.10.8"
  },
  "orig_nbformat": 4
 },
 "nbformat": 4,
 "nbformat_minor": 2
}
